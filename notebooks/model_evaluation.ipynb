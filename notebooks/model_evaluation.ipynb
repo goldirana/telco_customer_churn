{
 "cells": [
  {
   "cell_type": "code",
   "execution_count": 11,
   "metadata": {},
   "outputs": [],
   "source": [
    "from src.models.train_model import BuildModel \n",
    "from src.data.make_dataset import DataIngestion\n",
    "from src.utils.common import read_yaml\n",
    "from src import logger\n",
    "from notebooks import CONFIG_FILE_PATH, PARAMS_FILE_PATH\n",
    "from pathlib import Path\n",
    "import pandas as pd\n",
    "import mlflow\n",
    "\n",
    "from dataclasses import dataclass\n",
    "\n"
   ]
  },
  {
   "cell_type": "code",
   "execution_count": 19,
   "metadata": {},
   "outputs": [
    {
     "name": "stderr",
     "output_type": "stream",
     "text": [
      "2025-01-09 10:31:37,665 - STAGE 2: MODEL BUILDING - INFO - Yaml read successfully from /Users/goldyrana/mess/deep_learning/projects/telco_customer_churn/config/config.yaml\n"
     ]
    },
    {
     "data": {
      "text/plain": [
       "'data/processed/test/test.csv'"
      ]
     },
     "execution_count": 19,
     "metadata": {},
     "output_type": "execute_result"
    }
   ],
   "source": [
    "read_yaml(CONFIG_FILE_PATH).data_directory.processed_test"
   ]
  },
  {
   "cell_type": "code",
   "execution_count": 25,
   "metadata": {},
   "outputs": [
    {
     "name": "stderr",
     "output_type": "stream",
     "text": [
      "2025-01-09 10:33:18,277 - STAGE 2: MODEL BUILDING - INFO - Yaml read successfully from /Users/goldyrana/mess/deep_learning/projects/telco_customer_churn/config/config.yaml\n"
     ]
    },
    {
     "data": {
      "text/plain": [
       "PosixPath('/Users/goldyrana/mess/deep_learning/projects/telco_customer_churn')"
      ]
     },
     "execution_count": 25,
     "metadata": {},
     "output_type": "execute_result"
    }
   ],
   "source": []
  },
  {
   "cell_type": "code",
   "execution_count": 18,
   "metadata": {},
   "outputs": [
    {
     "name": "stderr",
     "output_type": "stream",
     "text": [
      "2025-01-09 10:31:24,985 - STAGE 2: MODEL BUILDING - INFO - Yaml read successfully from /Users/goldyrana/mess/deep_learning/projects/telco_customer_churn/config/config.yaml\n"
     ]
    },
    {
     "data": {
      "text/plain": [
       "PosixPath('/Users/goldyrana/mess/deep_learning/projects/telco_customer_churn/notebooks/data/processed')"
      ]
     },
     "execution_count": 18,
     "metadata": {},
     "output_type": "execute_result"
    }
   ],
   "source": [
    "Path(read_yaml(CONFIG_FILE_PATH).data_directory.processed_test).resolve().parent.parent"
   ]
  },
  {
   "cell_type": "code",
   "execution_count": 26,
   "metadata": {},
   "outputs": [
    {
     "data": {
      "text/plain": [
       "PosixPath('/Users/goldyrana/mess/deep_learning/projects/telco_customer_churn/notebooks/data/processed/test/test.csv')"
      ]
     },
     "execution_count": 26,
     "metadata": {},
     "output_type": "execute_result"
    }
   ],
   "source": [
    "Path(\"data/processed/test/test.csv\").resolve()"
   ]
  },
  {
   "cell_type": "code",
   "execution_count": 28,
   "metadata": {},
   "outputs": [
    {
     "data": {
      "text/plain": [
       "'/Users/goldyrana/mess/deep_learning/projects/telco_customer_churn/config/config.yaml'"
      ]
     },
     "execution_count": 28,
     "metadata": {},
     "output_type": "execute_result"
    }
   ],
   "source": [
    "CONFIG_FILE_PATH"
   ]
  },
  {
   "cell_type": "code",
   "execution_count": 29,
   "metadata": {},
   "outputs": [
    {
     "data": {
      "text/plain": [
       "'/Users/goldyrana/mess/deep_learning/projects/telco_customer_churn/params.yaml'"
      ]
     },
     "execution_count": 29,
     "metadata": {},
     "output_type": "execute_result"
    }
   ],
   "source": [
    "PARAMS_FILE_PATH"
   ]
  },
  {
   "cell_type": "code",
   "execution_count": 33,
   "metadata": {},
   "outputs": [
    {
     "name": "stderr",
     "output_type": "stream",
     "text": [
      "2025-01-09 10:36:30,940 - STAGE 2: MODEL BUILDING - INFO - Yaml read successfully from /Users/goldyrana/mess/deep_learning/projects/telco_customer_churn/config/config.yaml\n"
     ]
    },
    {
     "data": {
      "text/plain": [
       "'data/processed/test/test.csv'"
      ]
     },
     "execution_count": 33,
     "metadata": {},
     "output_type": "execute_result"
    }
   ],
   "source": [
    "read_yaml(CONFIG_FILE_PATH).data_directory.processed_test"
   ]
  },
  {
   "cell_type": "code",
   "execution_count": null,
   "metadata": {},
   "outputs": [],
   "source": []
  },
  {
   "cell_type": "code",
   "execution_count": 35,
   "metadata": {},
   "outputs": [
    {
     "name": "stderr",
     "output_type": "stream",
     "text": [
      "2025-01-09 10:37:14,336 - STAGE 2: MODEL BUILDING - INFO - Yaml read successfully from /Users/goldyrana/mess/deep_learning/projects/telco_customer_churn/config/config.yaml\n",
      "2025-01-09 10:37:14,340 - STAGE 2: MODEL BUILDING - INFO - Yaml read successfully from /Users/goldyrana/mess/deep_learning/projects/telco_customer_churn/params.yaml\n",
      "2025-01-09 10:37:14,347 - STAGE 2: MODEL BUILDING - INFO - Data read sucessfully /Users/goldyrana/mess/deep_learning/projects/telco_customer_churn/data/processed/test/test.csv\n",
      "2025-01-09 10:37:14,348 - STAGE 2: MODEL BUILDING - INFO - Splitted data into x and y sucessfully\n",
      "2025-01-09 10:37:14,351 - STAGE 2: MODEL BUILDING - ERROR - Could not find an \"MLmodel\" configuration file at \"/Users/goldyrana/mess/deep_learning/projects/telco_customer_churn/models/model.pkl\"\n"
     ]
    },
    {
     "ename": "TypeError",
     "evalue": "evaluate() takes 4 positional arguments but 5 were given",
     "output_type": "error",
     "traceback": [
      "\u001b[0;31m---------------------------------------------------------------------------\u001b[0m",
      "\u001b[0;31mTypeError\u001b[0m                                 Traceback (most recent call last)",
      "Cell \u001b[0;32mIn[35], line 56\u001b[0m\n\u001b[1;32m     53\u001b[0m x_test, y_test \u001b[38;5;241m=\u001b[39m data_ingestion\u001b[38;5;241m.\u001b[39msplit_x_y(test, config_params\u001b[38;5;241m.\u001b[39mtarget_col)\n\u001b[1;32m     55\u001b[0m model \u001b[38;5;241m=\u001b[39m model_evaluator\u001b[38;5;241m.\u001b[39mload_model()\n\u001b[0;32m---> 56\u001b[0m \u001b[43mmodel_evaluator\u001b[49m\u001b[38;5;241;43m.\u001b[39;49m\u001b[43mevaluate\u001b[49m\u001b[43m(\u001b[49m\u001b[43mmodel\u001b[49m\u001b[43m,\u001b[49m\u001b[43m \u001b[49m\u001b[43mmodel\u001b[49m\u001b[43m,\u001b[49m\u001b[43m \u001b[49m\u001b[43mx_test\u001b[49m\u001b[43m,\u001b[49m\u001b[43m \u001b[49m\u001b[43my_test\u001b[49m\u001b[43m)\u001b[49m\n",
      "\u001b[0;31mTypeError\u001b[0m: evaluate() takes 4 positional arguments but 5 were given"
     ]
    }
   ],
   "source": [
    "@dataclass\n",
    "class ModelEvaluationConfig:\n",
    "    saved_model_dir: str\n",
    "    test_dir: str\n",
    "    metrics: list\n",
    "    target_col: str\n",
    "\n",
    "class ConfigurationManger:\n",
    "    def __init__(self, config_file_path=CONFIG_FILE_PATH,\n",
    "                 params_file_path=PARAMS_FILE_PATH):\n",
    "        self.config = read_yaml(config_file_path)\n",
    "        self.params = read_yaml(params_file_path)\n",
    "\n",
    "    def get_evaluation_config(self)-> ModelEvaluationConfig:\n",
    "        model_evaluator_config = ModelEvaluationConfig(\n",
    "        saved_model_dir=self.config.model.saved_model,\n",
    "        test_dir=str(Path(self.config.data_directory.processed_test).resolve()),\n",
    "        metrics=self.params.model.metrics,\n",
    "        target_col=self.params.data.target_col)\n",
    "        return model_evaluator_config\n",
    "        \n",
    "\n",
    "class ModelEvaluation(BuildModel):\n",
    "    def __init__(self, config: ModelEvaluationConfig):\n",
    "        self.config = config\n",
    "\n",
    "    def load_model(self):\n",
    "        try:\n",
    "            model = mlflow.sklearn.load_model(self.config.saved_model_dir)\n",
    "            logger.info(\"Model load sucessfully\")\n",
    "            return model\n",
    "        except FileNotFoundError as e:\n",
    "            logger.error(e)\n",
    "        except Exception as e:\n",
    "            logger.error(e)\n",
    "    \n",
    "    def evaluate(self, model, x, y_true):\n",
    "        try:\n",
    "            prediction = model.predict(x)\n",
    "            self.log_metrics(model, self.config.metrics, y_true, prediction, \"Test\")\n",
    "        except Exception as e:\n",
    "            logger.error(e)\n",
    "            raise e\n",
    "        \n",
    "\n",
    "if __name__ == \"__main__\":\n",
    "    config_manager = ConfigurationManger()\n",
    "    config_params = config_manager.get_evaluation_config()\n",
    "    model_evaluator = ModelEvaluation(config_params)\n",
    "    data_ingestion = DataIngestion()\n",
    "\n",
    "    test = data_ingestion.get_data(\"/Users/goldyrana/mess/deep_learning/projects/telco_customer_churn/data/processed/test/test.csv\")\n",
    "    x_test, y_test = data_ingestion.split_x_y(test, config_params.target_col)\n",
    "\n",
    "    model = model_evaluator.load_model()\n",
    "    model_evaluator.evaluate(model, x_test, y_test)\n",
    "\n",
    "\n",
    "\n",
    "        \n",
    "        \n",
    "\n",
    "\n",
    "\n"
   ]
  },
  {
   "cell_type": "code",
   "execution_count": null,
   "metadata": {},
   "outputs": [],
   "source": []
  }
 ],
 "metadata": {
  "kernelspec": {
   "display_name": "telco",
   "language": "python",
   "name": "python3"
  },
  "language_info": {
   "codemirror_mode": {
    "name": "ipython",
    "version": 3
   },
   "file_extension": ".py",
   "mimetype": "text/x-python",
   "name": "python",
   "nbconvert_exporter": "python",
   "pygments_lexer": "ipython3",
   "version": "3.8.18"
  }
 },
 "nbformat": 4,
 "nbformat_minor": 2
}
