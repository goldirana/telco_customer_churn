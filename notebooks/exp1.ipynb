{
 "cells": [
  {
   "cell_type": "markdown",
   "metadata": {},
   "source": [
    "# Data Ingestion\n"
   ]
  },
  {
   "cell_type": "code",
   "execution_count": 1,
   "metadata": {},
   "outputs": [],
   "source": [
    "from sklearn.model_selection import train_test_split\n",
    "from src import logger, read_yaml\n",
    "import pandas as pd\n",
    "\n",
    "STAGE_NAME = \"Data Ingestion\"\n",
    "logger.name = STAGE_NAME\n",
    "\n",
    "class data_ingestion:\n",
    "    \n",
    "    def __init__(self):\n",
    "        pass\n",
    "    \n",
    "    def get_data(self, path)-> pd.DataFrame:\n",
    "        try:\n",
    "            df = pd.read_csv(path)\n",
    "            logger.info(\"Data read sucessfully %s\", path)\n",
    "            return df\n",
    "        except FileNotFoundError:\n",
    "            logger.error(\"FileNotFoundError %s\", path)\n",
    "        except Exception as e:\n",
    "            logger.error(\"Error occured while reading data: %s\", e)\n",
    "    \n",
    "    def split_data(self, df: pd.DataFrame, test_size: float):\n",
    "        \"\"\"Used to split the data into train and test, if return_target is\n",
    "        passed returns the target seprately\n",
    "\n",
    "        Args:\n",
    "            df (pd.DataFrame): original dataset\n",
    "            test_size (float): how much percent to keep the test size\n",
    "        \"\"\"\n",
    "\n",
    "        try:\n",
    "            x, y = train_test_split(df, test_size=test_size, random_state=12)\n",
    "            logger.info(\"Data splitted sucesssfully\")\n",
    "            return x, y\n",
    "        except pd.errors.EmptyDataError as e:\n",
    "            logger.error(e)\n",
    "        except Exception as e:\n",
    "            logger.error(e)\n",
    "\n",
    "    def save_dataframe(self, data:pd.DataFrame, location: str):\n",
    "        \"\"\"Stores the dataframe to the given location in csv format\n",
    "\n",
    "        Args:\n",
    "            data (pd.DataFrame): data to be stored\n",
    "            location (str): location with extension\n",
    "        \"\"\"\n",
    "        try:\n",
    "            data.to_csv(location, index=False)\n",
    "            logger.info(\"Data stored sucessfully at: %s\", location)\n",
    "        except Exception as e:\n",
    "            logger.error(f\"Error occured while saving data at: {location}\\n {e}\")\n",
    "        \n",
    "    def split_x_y(df:pd.DataFrame, target: str) -> tuple:\n",
    "        \"\"\"Splits the independent and target variable\n",
    "\n",
    "        Args:\n",
    "            df (pd.DataFrame): dataframe\n",
    "            target (str): name of target variable\n",
    "\n",
    "        Returns:\n",
    "            tuple: (x: pd.DataFrame, y: pd.Series)\n",
    "        \"\"\"\n",
    "        try:\n",
    "            y = df.pop(target)\n",
    "            logger.info(\"Splitted data into x and y sucessfully\")\n",
    "            return df, y\n",
    "        except Exception as e:\n",
    "            logger.error(\"Exception occured at splitting the data: %s\", e)\n",
    "            "
   ]
  },
  {
   "cell_type": "code",
   "execution_count": 3,
   "metadata": {},
   "outputs": [
    {
     "name": "stderr",
     "output_type": "stream",
     "text": [
      "2025-01-07 20:28:12,109 - root - INFO - Yaml read successfully from /Users/goldyrana/mess/deep_learning/projects/telco_customer_churn/params.yaml\n"
     ]
    },
    {
     "ename": "TypeError",
     "evalue": "get_data() takes 1 positional argument but 2 were given",
     "output_type": "error",
     "traceback": [
      "\u001b[0;31m---------------------------------------------------------------------------\u001b[0m",
      "\u001b[0;31mTypeError\u001b[0m                                 Traceback (most recent call last)",
      "Cell \u001b[0;32mIn[3], line 3\u001b[0m\n\u001b[1;32m      1\u001b[0m data_config \u001b[38;5;241m=\u001b[39m data_ingestion()\n\u001b[1;32m      2\u001b[0m params \u001b[38;5;241m=\u001b[39m read_yaml(\u001b[38;5;124m\"\u001b[39m\u001b[38;5;124m/Users/goldyrana/mess/deep_learning/projects/telco_customer_churn/params.yaml\u001b[39m\u001b[38;5;124m\"\u001b[39m)\n\u001b[0;32m----> 3\u001b[0m df \u001b[38;5;241m=\u001b[39m \u001b[43mdata_config\u001b[49m\u001b[38;5;241;43m.\u001b[39;49m\u001b[43mget_data\u001b[49m\u001b[43m(\u001b[49m\u001b[43mparams\u001b[49m\u001b[43m[\u001b[49m\u001b[38;5;124;43m\"\u001b[39;49m\u001b[38;5;124;43mdirectory\u001b[39;49m\u001b[38;5;124;43m\"\u001b[39;49m\u001b[43m]\u001b[49m\u001b[43m[\u001b[49m\u001b[38;5;124;43m\"\u001b[39;49m\u001b[38;5;124;43mraw\u001b[39;49m\u001b[38;5;124;43m\"\u001b[39;49m\u001b[43m]\u001b[49m\u001b[43m)\u001b[49m\n",
      "\u001b[0;31mTypeError\u001b[0m: get_data() takes 1 positional argument but 2 were given"
     ]
    }
   ],
   "source": [
    "data_config = data_ingestion()\n",
    "params = read_yaml(\"/Users/goldyrana/mess/deep_learning/projects/telco_customer_churn/params.yaml\")\n",
    "df = data_config.get_data(params[\"directory\"][\"raw\"])"
   ]
  },
  {
   "cell_type": "code",
   "execution_count": null,
   "metadata": {},
   "outputs": [],
   "source": []
  }
 ],
 "metadata": {
  "kernelspec": {
   "display_name": "nl",
   "language": "python",
   "name": "python3"
  },
  "language_info": {
   "codemirror_mode": {
    "name": "ipython",
    "version": 3
   },
   "file_extension": ".py",
   "mimetype": "text/x-python",
   "name": "python",
   "nbconvert_exporter": "python",
   "pygments_lexer": "ipython3",
   "version": "3.8.18"
  }
 },
 "nbformat": 4,
 "nbformat_minor": 2
}
