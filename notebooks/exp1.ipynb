{
 "cells": [
  {
   "cell_type": "markdown",
   "metadata": {},
   "source": [
    "# Data Ingestion\n"
   ]
  },
  {
   "cell_type": "code",
   "execution_count": 1,
   "metadata": {},
   "outputs": [],
   "source": [
    "from sklearn.model_selection import train_test_split\n",
    "from src.utils.common import read_yaml, create_directory\n",
    "import pandas as pd\n",
    "from src import logger\n",
    "from pathlib import Path\n",
    "from src.constants import *\n",
    "from src.config.configuration import ConfigurationManager\n",
    "\n",
    "STAGE_NAME = \"Data Ingestion\"\n",
    "logger.name = STAGE_NAME\n",
    "\n",
    "class DataIngestion:\n",
    "    \n",
    "    def __init__(self):\n",
    "        pass\n",
    "    \n",
    "    def get_data(self, path)-> pd.DataFrame:\n",
    "        try:\n",
    "            df = pd.read_csv(path)\n",
    "            logger.info(\"Data read sucessfully %s\", path)\n",
    "            return df\n",
    "        except FileNotFoundError:\n",
    "            logger.error(\"FileNotFoundError %s\", path)\n",
    "        except Exception as e:\n",
    "            logger.error(\"Error occured while reading data: %s\", e)\n",
    "    \n",
    "    def split_data(self, df: pd.DataFrame, test_size: float):\n",
    "        \"\"\"Used to split the data into train and test, if return_target is\n",
    "        passed returns the target seprately\n",
    "\n",
    "        Args:\n",
    "            df (pd.DataFrame): original dataset\n",
    "            test_size (float): how much percent to keep the test size\n",
    "        \"\"\"\n",
    "\n",
    "        try:\n",
    "            x, y = train_test_split(df, test_size=test_size, random_state=12)\n",
    "            logger.info(\"Data splitted sucesssfully\")\n",
    "            return x, y\n",
    "        except pd.errors.EmptyDataError as e:\n",
    "            logger.error(e)\n",
    "        except Exception as e:\n",
    "            logger.error(e)\n",
    "\n",
    "    def save_dataframe(self, data:pd.DataFrame, location: str):\n",
    "        \"\"\"Stores the dataframe to the given location in csv format\n",
    "\n",
    "        Args:\n",
    "            data (pd.DataFrame): data to be stored\n",
    "            location (str): location with extension\n",
    "        \"\"\"\n",
    "        try:\n",
    "            location = str(Path(location).resolve())\n",
    "            create_directory(location, is_extension_present=True)\n",
    "            data.to_csv(location, index=False)\n",
    "            logger.info(\"Data stored sucessfully at: %s\", location)\n",
    "        except Exception as e:\n",
    "            logger.error(f\"Error occured while saving data at: {location}\\n {e}\")\n",
    "        \n",
    "    def split_x_y(df:pd.DataFrame, target: str) -> tuple:\n",
    "        \"\"\"Splits the independent and target variable\n",
    "\n",
    "        Args:\n",
    "            df (pd.DataFrame): dataframe\n",
    "            target (str): name of target variable\n",
    "\n",
    "        Returns:\n",
    "            tuple: (x: pd.DataFrame, y: pd.Series)\n",
    "        \"\"\"\n",
    "        try:\n",
    "            y = df.pop(target)\n",
    "            logger.info(\"Splitted data into x and y sucessfully\")\n",
    "            return df, y\n",
    "        except Exception as e:\n",
    "            logger.error(\"Exception occured at splitting the data: %s\", e)\n",
    "    \n"
   ]
  },
  {
   "cell_type": "code",
   "execution_count": 4,
   "metadata": {},
   "outputs": [
    {
     "name": "stderr",
     "output_type": "stream",
     "text": [
      "2025-01-08 11:50:05,064 - Data Ingestion - INFO - Yaml read successfully from /Users/goldyrana/mess/deep_learning/projects/telco_customer_churn/config/config.yaml\n",
      "2025-01-08 11:50:05,072 - Data Ingestion - INFO - Yaml read successfully from /Users/goldyrana/mess/deep_learning/projects/telco_customer_churn/params.yaml\n"
     ]
    },
    {
     "name": "stderr",
     "output_type": "stream",
     "text": [
      "2025-01-08 11:50:05,110 - Data Ingestion - INFO - Data read sucessfully ../data/raw/WA_Fn-UseC_-Telco-Customer-Churn.csv\n",
      "2025-01-08 11:50:05,125 - Data Ingestion - INFO - Data splitted sucesssfully\n",
      "2025-01-08 11:50:05,129 - Data Ingestion - DEBUG - File path without extension is /Users/goldyrana/mess/deep_learning/projects/telco_customer_churn/data/interim/train\n",
      "2025-01-08 11:50:05,130 - Data Ingestion - INFO - Directory already present at /Users/goldyrana/mess/deep_learning/projects/telco_customer_churn/data/interim/train\n",
      "2025-01-08 11:50:05,130 - Data Ingestion - INFO - Deleting previous directory and creating directory at /Users/goldyrana/mess/deep_learning/projects/telco_customer_churn/data/interim/train\n",
      "2025-01-08 11:50:05,160 - Data Ingestion - INFO - Data stored sucessfully at: /Users/goldyrana/mess/deep_learning/projects/telco_customer_churn/data/interim/train/train.csv\n",
      "2025-01-08 11:50:05,162 - Data Ingestion - DEBUG - File path without extension is /Users/goldyrana/mess/deep_learning/projects/telco_customer_churn/data/interim/test\n",
      "2025-01-08 11:50:05,163 - Data Ingestion - INFO - Directory already present at /Users/goldyrana/mess/deep_learning/projects/telco_customer_churn/data/interim/test\n",
      "2025-01-08 11:50:05,163 - Data Ingestion - INFO - Deleting previous directory and creating directory at /Users/goldyrana/mess/deep_learning/projects/telco_customer_churn/data/interim/test\n",
      "2025-01-08 11:50:05,173 - Data Ingestion - INFO - Data stored sucessfully at: /Users/goldyrana/mess/deep_learning/projects/telco_customer_churn/data/interim/test/test.csv\n"
     ]
    }
   ],
   "source": [
    "data_ingestion = DataIngestion()\n",
    "config_manager = ConfigurationManager()\n",
    "data_ingestion_params = config_manager.get_data_ingestion_config()\n"
   ]
  },
  {
   "cell_type": "code",
   "execution_count": null,
   "metadata": {},
   "outputs": [],
   "source": []
  },
  {
   "cell_type": "markdown",
   "metadata": {},
   "source": []
  },
  {
   "cell_type": "code",
   "execution_count": null,
   "metadata": {},
   "outputs": [],
   "source": []
  }
 ],
 "metadata": {
  "kernelspec": {
   "display_name": "nl",
   "language": "python",
   "name": "python3"
  },
  "language_info": {
   "codemirror_mode": {
    "name": "ipython",
    "version": 3
   },
   "file_extension": ".py",
   "mimetype": "text/x-python",
   "name": "python",
   "nbconvert_exporter": "python",
   "pygments_lexer": "ipython3",
   "version": "3.8.18"
  }
 },
 "nbformat": 4,
 "nbformat_minor": 2
}
